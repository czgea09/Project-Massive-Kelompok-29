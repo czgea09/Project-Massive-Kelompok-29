{
  "nbformat": 4,
  "nbformat_minor": 0,
  "metadata": {
    "colab": {
      "provenance": []
    },
    "kernelspec": {
      "name": "python3",
      "display_name": "Python 3"
    },
    "language_info": {
      "name": "python"
    }
  },
  "cells": [
    {
      "cell_type": "code",
      "source": [
        "# Import necessary libraries\n",
        "import pandas as pd\n",
        "import numpy as np"
      ],
      "metadata": {
        "id": "yHy0F1E7fGyg"
      },
      "execution_count": null,
      "outputs": []
    },
    {
      "cell_type": "code",
      "source": [
        "# Load the data from the uploaded file\n",
        "file_path = '/content/dataset/food_data_terbaru.csv'\n",
        "data = pd.read_csv(file_path)"
      ],
      "metadata": {
        "id": "SCzUjh1FfITb"
      },
      "execution_count": null,
      "outputs": []
    },
    {
      "cell_type": "code",
      "source": [
        "# Display the first few rows of the data\n",
        "print(\"First few rows of the dataset:\")\n",
        "print(data.head())"
      ],
      "metadata": {
        "colab": {
          "base_uri": "https://localhost:8080/"
        },
        "id": "WHL-x2PAfdku",
        "outputId": "25c7d53e-5670-4b67-b5a4-2a8ed3123f97"
      },
      "execution_count": null,
      "outputs": [
        {
          "output_type": "stream",
          "name": "stdout",
          "text": [
            "First few rows of the dataset:\n",
            "           Nama_bahan Satuan    Harga\n",
            "0        Ayam Kampung   ekor  90000.0\n",
            "1            Ayam Ras   ekor  55000.0\n",
            "2   Bawang Merah Bima     Kg  75000.0\n",
            "3  Bawang Merah Lokal     Kg  50000.0\n",
            "4        Bawang Putih     Kg  35000.0\n"
          ]
        }
      ]
    },
    {
      "cell_type": "code",
      "source": [
        "# Get basic information about the data\n",
        "print(\"\\nBasic information about the dataset:\")\n",
        "print(data.info())"
      ],
      "metadata": {
        "colab": {
          "base_uri": "https://localhost:8080/"
        },
        "id": "EmmG_31DffLq",
        "outputId": "dd1dff8a-5681-4be7-8407-dd8ec3cd70b3"
      },
      "execution_count": null,
      "outputs": [
        {
          "output_type": "stream",
          "name": "stdout",
          "text": [
            "\n",
            "Basic information about the dataset:\n",
            "<class 'pandas.core.frame.DataFrame'>\n",
            "RangeIndex: 143 entries, 0 to 142\n",
            "Data columns (total 3 columns):\n",
            " #   Column      Non-Null Count  Dtype  \n",
            "---  ------      --------------  -----  \n",
            " 0   Nama_bahan  143 non-null    object \n",
            " 1   Satuan      142 non-null    object \n",
            " 2   Harga       142 non-null    float64\n",
            "dtypes: float64(1), object(2)\n",
            "memory usage: 3.5+ KB\n",
            "None\n"
          ]
        }
      ]
    },
    {
      "cell_type": "code",
      "source": [
        "# Display summary statistics of the data\n",
        "print(\"\\nSummary statistics of the dataset:\")\n",
        "print(data.describe())"
      ],
      "metadata": {
        "colab": {
          "base_uri": "https://localhost:8080/"
        },
        "id": "0_VRT374fiZq",
        "outputId": "d86c7ae8-b4b4-4b2b-fdcf-fb97d7dee12f"
      },
      "execution_count": null,
      "outputs": [
        {
          "output_type": "stream",
          "name": "stdout",
          "text": [
            "\n",
            "Summary statistics of the dataset:\n",
            "               Harga\n",
            "count     142.000000\n",
            "mean    27090.443662\n",
            "std     28215.800314\n",
            "min       500.000000\n",
            "25%      8000.000000\n",
            "50%     15000.000000\n",
            "75%     37857.250000\n",
            "max    137857.000000\n"
          ]
        }
      ]
    },
    {
      "cell_type": "code",
      "source": [
        "# Check for missing values\n",
        "print(\"\\nMissing values in the dataset:\")\n",
        "print(data.isnull().sum())"
      ],
      "metadata": {
        "colab": {
          "base_uri": "https://localhost:8080/"
        },
        "id": "yKFXC4qwflt9",
        "outputId": "9fdfea14-099a-4f50-b22b-96ed0f1f37b5"
      },
      "execution_count": null,
      "outputs": [
        {
          "output_type": "stream",
          "name": "stdout",
          "text": [
            "\n",
            "Missing values in the dataset:\n",
            "Nama_bahan    0\n",
            "Satuan        1\n",
            "Harga         1\n",
            "dtype: int64\n"
          ]
        }
      ]
    },
    {
      "cell_type": "code",
      "source": [
        "# Handle missing values (example: fill with median or drop)\n",
        "# Filling missing numerical values with median\n",
        "numerical_cols = data.select_dtypes(include=[np.number]).columns\n",
        "for col in numerical_cols:\n",
        "    data[col].fillna(data[col].median(), inplace=True)"
      ],
      "metadata": {
        "id": "kyXW59e2fp14"
      },
      "execution_count": null,
      "outputs": []
    },
    {
      "cell_type": "code",
      "source": [
        "# Filling missing categorical values with mode\n",
        "categorical_cols = data.select_dtypes(include=[object]).columns\n",
        "for col in categorical_cols:\n",
        "    data[col].fillna(data[col].mode()[00], inplace=True)"
      ],
      "metadata": {
        "id": "xPz0F5-gfykx"
      },
      "execution_count": null,
      "outputs": []
    },
    {
      "cell_type": "code",
      "source": [
        "# Verify that there are no more missing values\n",
        "print(\"\\nMissing values after filling:\")\n",
        "print(data.isnull().sum())"
      ],
      "metadata": {
        "colab": {
          "base_uri": "https://localhost:8080/"
        },
        "id": "VeiejEvHf10k",
        "outputId": "a44ef1a9-8de0-4b37-f814-ff596c0cf8ae"
      },
      "execution_count": null,
      "outputs": [
        {
          "output_type": "stream",
          "name": "stdout",
          "text": [
            "\n",
            "Missing values after filling:\n",
            "Nama_bahan    0\n",
            "Satuan        0\n",
            "Harga         0\n",
            "dtype: int64\n"
          ]
        }
      ]
    },
    {
      "cell_type": "code",
      "source": [
        "# Remove duplicates if any\n",
        "print(\"\\nNumber of duplicate rows:\", data.duplicated().sum())\n",
        "data.drop_duplicates(inplace=True)"
      ],
      "metadata": {
        "colab": {
          "base_uri": "https://localhost:8080/"
        },
        "id": "NcDnucadf9rl",
        "outputId": "9a1d054d-9c08-4fdc-fa9d-636bff57590d"
      },
      "execution_count": null,
      "outputs": [
        {
          "output_type": "stream",
          "name": "stdout",
          "text": [
            "\n",
            "Number of duplicate rows: 0\n"
          ]
        }
      ]
    },
    {
      "cell_type": "code",
      "source": [
        "# Verify data types\n",
        "print(\"\\nData types after cleaning:\")\n",
        "print(data.dtypes)"
      ],
      "metadata": {
        "colab": {
          "base_uri": "https://localhost:8080/"
        },
        "id": "VHVUd4LEgAFN",
        "outputId": "151a980b-a52b-47a4-94f6-8470bdee3913"
      },
      "execution_count": null,
      "outputs": [
        {
          "output_type": "stream",
          "name": "stdout",
          "text": [
            "\n",
            "Data types after cleaning:\n",
            "Nama_bahan     object\n",
            "Satuan         object\n",
            "Harga         float64\n",
            "dtype: object\n"
          ]
        }
      ]
    },
    {
      "cell_type": "code",
      "source": [
        "# Save the cleaned data to a new CSV file\n",
        "cleaned_file_path = '/content/dataset/fooddata_terbaru_cleaned_data.csv'\n",
        "data.to_csv(cleaned_file_path, index=False)\n",
        "\n",
        "print(\"\\nData cleaning completed. Cleaned data saved to:\", cleaned_file_path)"
      ],
      "metadata": {
        "colab": {
          "base_uri": "https://localhost:8080/"
        },
        "id": "KpeSzGsWgFBJ",
        "outputId": "8c698672-8bd4-4546-b18b-f14908842118"
      },
      "execution_count": null,
      "outputs": [
        {
          "output_type": "stream",
          "name": "stdout",
          "text": [
            "\n",
            "Data cleaning completed. Cleaned data saved to: /content/dataset/fooddata_terbaru_cleaned_data.csv\n"
          ]
        }
      ]
    }
  ]
}